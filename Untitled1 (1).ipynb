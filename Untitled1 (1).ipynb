
구구단
def mull(x):
    y=[1,2,3,4,5,6,7,8,9]
    return [i*x for i in y]
mull(1)
[1, 2, 3, 4, 5, 6, 7, 8, 9]
4
mull(4)
[4, 8, 12, 16, 20, 24, 28, 32, 36]
홀수/짝수 판별
num
def edd(num):
    if num%2 == 0:
        return 'Even'
    else:
        return 'Odd'
3
edd(3)
'Odd'
2
edd(2)
'Even'
평균
def average(list):
    v = 0
    for i in list:
        v = v + i
    return v / len(list)
def average(list):
    return (sum(list) / len(list))
average([5,1,2,3,4])
3.0
​
